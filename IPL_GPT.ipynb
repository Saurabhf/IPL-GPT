{
  "nbformat": 4,
  "nbformat_minor": 0,
  "metadata": {
    "colab": {
      "provenance": [],
      "collapsed_sections": [
        "jxhLk0TH91zZ",
        "a07AK0iHBc4d",
        "uCaabdyWSJtY"
      ],
      "authorship_tag": "ABX9TyNn3QA5QAfm2FTheUiZcKik"
    },
    "kernelspec": {
      "name": "python3",
      "display_name": "Python 3"
    },
    "language_info": {
      "name": "python"
    }
  },
  "cells": [
    {
      "cell_type": "markdown",
      "source": [
        "### **Implementation of Retrieval-Augmented Generation (RAG) using GPT-4 for IPL 2024 news articles.**"
      ],
      "metadata": {
        "id": "L6Z3p0FhUxhj"
      }
    },
    {
      "cell_type": "markdown",
      "source": [
        "### Azure Open AI Configuration"
      ],
      "metadata": {
        "id": "jxhLk0TH91zZ"
      }
    },
    {
      "cell_type": "code",
      "source": [
        "%%capture\n",
        "!pip3 install openai --upgrade"
      ],
      "metadata": {
        "collapsed": true,
        "id": "lTp_5DH20I2q"
      },
      "execution_count": 1,
      "outputs": []
    },
    {
      "cell_type": "code",
      "source": [
        "import os\n",
        "from openai import AzureOpenAI"
      ],
      "metadata": {
        "id": "2XxTx_Fz8ji-"
      },
      "execution_count": 2,
      "outputs": []
    },
    {
      "cell_type": "code",
      "source": [
        "from google.colab import userdata\n",
        "key= userdata.get('OAIKEY')"
      ],
      "metadata": {
        "id": "qq3SvZgi8sbw"
      },
      "execution_count": 3,
      "outputs": []
    },
    {
      "cell_type": "code",
      "source": [
        "client = AzureOpenAI(\n",
        "    api_key=key,\n",
        "    api_version=\"2024-02-01\",\n",
        "    azure_endpoint = \"https://ragprojectv1.openai.azure.com/\"\n",
        ")\n",
        "\n",
        "gpt_four = \"gpt-four-oai\"\n",
        "emd_deployment_name = \"adaembedoai\" # embedding model"
      ],
      "metadata": {
        "id": "i-_fkDi68tUi"
      },
      "execution_count": 4,
      "outputs": []
    },
    {
      "cell_type": "code",
      "source": [
        "# Test Connection\n",
        "prompt = \"Tell me a funny joke\"\n",
        "\n",
        "response = client.chat.completions.create(\n",
        "    model= gpt_four, # model = \"deployment_name\".\n",
        "    messages=[\n",
        "        {\"role\": \"system\", \"content\": \"Act as a standup comdeian\"},\n",
        "        {\"role\": \"user\", \"content\": prompt}\n",
        "    ], max_tokens= 25, temperature= 0\n",
        ")\n",
        "\n",
        "print(response.choices[0].message.content)"
      ],
      "metadata": {
        "colab": {
          "base_uri": "https://localhost:8080/"
        },
        "id": "h29tice19vtK",
        "outputId": "c5f3e986-e04d-4ab3-e41a-b84ac9a40981"
      },
      "execution_count": 5,
      "outputs": [
        {
          "output_type": "stream",
          "name": "stdout",
          "text": [
            "Sure, here's one for you:\n",
            "\n",
            "Why don't scientists trust atoms?\n",
            "\n",
            "Because they make up everything!\n"
          ]
        }
      ]
    },
    {
      "cell_type": "code",
      "source": [
        "response = client.embeddings.create(\n",
        "    input = \"Your text string goes here\",\n",
        "    model= emd_deployment_name  # model = \"deployment_name\".\n",
        ")"
      ],
      "metadata": {
        "id": "4pjI1qOKCGcC"
      },
      "execution_count": 6,
      "outputs": []
    },
    {
      "cell_type": "code",
      "source": [
        "len(response.data[0].embedding)"
      ],
      "metadata": {
        "colab": {
          "base_uri": "https://localhost:8080/"
        },
        "id": "BSP1DMocD7MX",
        "outputId": "26fa9144-33f3-4aee-920b-2fe3f55c069b"
      },
      "execution_count": 7,
      "outputs": [
        {
          "output_type": "execute_result",
          "data": {
            "text/plain": [
              "1536"
            ]
          },
          "metadata": {},
          "execution_count": 7
        }
      ]
    },
    {
      "cell_type": "markdown",
      "source": [
        "### Data Ingestion and Processing"
      ],
      "metadata": {
        "id": "spAMEU3uBD-6"
      }
    },
    {
      "cell_type": "code",
      "execution_count": 8,
      "metadata": {
        "collapsed": true,
        "id": "5-vYxQivgrhP"
      },
      "outputs": [],
      "source": [
        "%%capture\n",
        "!pip3 install -qU langchain-community \\\n",
        "  langchain-core \\\n",
        "  pinecone-client \\\n",
        "  langchain-pinecone \\\n",
        "  newspaper3k \\\n",
        "  tiktoken\\\n",
        "  evaluate"
      ]
    },
    {
      "cell_type": "code",
      "source": [
        "# Define the URLs of the articles\n",
        "url = [ \"https://www.financialexpress.com/sports/ipl/kkr-vs-srh-qualifier-1-live-scorecard-ipl-2024-match-71-kolkata-knight-riders-vs-sunrisers-hyderabad-live-score/3495970/\",\n",
        "        \"https://www.financialexpress.com/sports/ipl/rr-vs-rcb-live-match-score-ipl-2024-rajasthan-royals-vs-royal-challengers-bengaluru-eliminator-live-match-updates-scorecard/3497628/\",\n",
        "        \"https://www.financialexpress.com/sports/ipl/srh-vs-rr-live-score-sunrisers-hyderabad-vs-rajasthan-royals-scorecard-qualifier-2-may-24-ipl-match-today-live-updates/3500393/\",\n",
        "        \"https://www.financialexpress.com/sports/ipl/kkr-vs-srh-live-score-ipl-2024-final-match-live-updates-kolkata-knight-riders-vs-sunrisers-hyderabad-ipl-final-may-26-today-scorecard-latest-updates/3501995/\"\n",
        "]"
      ],
      "metadata": {
        "id": "HzyOGQjLiVPV"
      },
      "execution_count": 9,
      "outputs": []
    },
    {
      "cell_type": "code",
      "source": [
        "# Import necessary modules\n",
        "from newspaper import Article\n",
        "import pandas as pd\n",
        "\n",
        "# Function to extract article text from a given URL\n",
        "def extract_article_text(url):\n",
        "    article = Article(url)\n",
        "    article.download()\n",
        "    article.parse()\n",
        "    return article.text\n",
        "\n",
        "# Extract text for each article\n",
        "data = {\n",
        "    'source': [],\n",
        "    'text': []\n",
        "}\n",
        "\n",
        "for url in url:\n",
        "    text = extract_article_text(url)\n",
        "    data['source'].append(url)\n",
        "    data['text'].append(text)\n",
        "\n",
        "# Create a DataFrame\n",
        "df = pd.DataFrame(data)"
      ],
      "metadata": {
        "id": "7D6sHQZFiVUn"
      },
      "execution_count": 10,
      "outputs": []
    },
    {
      "cell_type": "code",
      "source": [
        "import re\n",
        "\n",
        "def clean_ipl_text(text):\n",
        "    # Remove HTML tags\n",
        "    text = re.sub(r'<.*?>', '', text)\n",
        "\n",
        "    # Replace specific characters with a space\n",
        "    text = re.sub(r\"[@#|)'(]\", ' ', text)\n",
        "\n",
        "    text = re.sub(r'pic\\.twitter\\.com/[\\w\\d]+', '', text)\n",
        "\n",
        "    # Remove Emojis\n",
        "    text = re.sub(r'[^\\x00-\\x7F]+', '', text)\n",
        "\n",
        "    # Replace multiple spaces or newlines with a single space\n",
        "    text = re.sub(r'\\s+', ' ', text)\n",
        "\n",
        "    # Trim leading and trailing whitespace\n",
        "    text = text.strip()\n",
        "\n",
        "    return text"
      ],
      "metadata": {
        "id": "MXz3L0YU5iBm"
      },
      "execution_count": 11,
      "outputs": []
    },
    {
      "cell_type": "code",
      "source": [
        "df['text'] = df['text'].apply(clean_ipl_text)"
      ],
      "metadata": {
        "id": "voG4q3JH5uIA"
      },
      "execution_count": 12,
      "outputs": []
    },
    {
      "cell_type": "code",
      "source": [
        "from langchain.text_splitter import RecursiveCharacterTextSplitter"
      ],
      "metadata": {
        "id": "ctIJ4sE6iVby"
      },
      "execution_count": 13,
      "outputs": []
    },
    {
      "cell_type": "code",
      "source": [
        "# Splitting text into chunks\n",
        "\n",
        "def chunk_text(text, chunk_size=500, chunk_overlap= 50):\n",
        "    splitter = RecursiveCharacterTextSplitter(\n",
        "        separators = [\"\\n\\n\", \"\\n\", \" \"],  # List of separators based on requirement (defaults to [\"\\n\\n\", \"\\n\", \".\"])\n",
        "        chunk_size=chunk_size,\n",
        "        chunk_overlap=chunk_overlap\n",
        "    )\n",
        "    chunks = splitter.split_text(text)\n",
        "    return chunks\n",
        "\n",
        "df['chunks'] = df['text'].apply(chunk_text)"
      ],
      "metadata": {
        "id": "HQPVBvRiiVft"
      },
      "execution_count": 14,
      "outputs": []
    },
    {
      "cell_type": "code",
      "source": [
        "# Exploded the dataframe for embeddings\n",
        "flattened_df = df.explode('chunks')"
      ],
      "metadata": {
        "id": "YYA_pCBXm-a3"
      },
      "execution_count": 15,
      "outputs": []
    },
    {
      "cell_type": "code",
      "source": [
        "# Added two new columns for creation of id\n",
        "flattened_df['year'] = '2024'\n",
        "flattened_df['no'] =  range(1, len(flattened_df)+1)"
      ],
      "metadata": {
        "id": "ItOzDjbGm-dW"
      },
      "execution_count": 16,
      "outputs": []
    },
    {
      "cell_type": "code",
      "source": [
        "flattened_df.shape"
      ],
      "metadata": {
        "colab": {
          "base_uri": "https://localhost:8080/"
        },
        "id": "N-NaLxQb3Vpv",
        "outputId": "be7a7d8f-898a-4970-b2ba-c3d26d06639f"
      },
      "execution_count": 17,
      "outputs": [
        {
          "output_type": "execute_result",
          "data": {
            "text/plain": [
              "(42, 5)"
            ]
          },
          "metadata": {},
          "execution_count": 17
        }
      ]
    },
    {
      "cell_type": "code",
      "source": [
        "flattened_df.loc[flattened_df['no'] ==  3]['chunks'][0]"
      ],
      "metadata": {
        "id": "6I30m72o3gh5",
        "colab": {
          "base_uri": "https://localhost:8080/",
          "height": 87
        },
        "outputId": "5e1d79dc-77fd-4bfb-c97b-ce52afe99599"
      },
      "execution_count": 18,
      "outputs": [
        {
          "output_type": "execute_result",
          "data": {
            "text/plain": [
              "'but SRHs batting collapsed. Pat Cummins added a crucial 30 off 24, partnering with Vijayakanth Viyaskanth for a 33-run last-wicket stand to push SRH past 150. Starcs opening spell of 3-0-22-3 set the tone for KKRs dominance. In reply, KKR skipper Shreyas Iyer and top order batter Venkatesh Iyer added 97 runs for the third wicket stand that sealed the finale spot for the Purple Army! KKR owner Shah Rukh Khan was seen greeting the audience with lorbo, korbo, jeetbo theme song playing at Narendra'"
            ],
            "application/vnd.google.colaboratory.intrinsic+json": {
              "type": "string"
            }
          },
          "metadata": {},
          "execution_count": 18
        }
      ]
    },
    {
      "cell_type": "code",
      "source": [
        "def create_embeddings(text, model=emd_deployment_name):\n",
        "    # Create embeddings for each document chunk\n",
        "    embeddings = client.embeddings.create(input = text, model=model).data[0].embedding\n",
        "    return embeddings"
      ],
      "metadata": {
        "id": "fQhtW39w7Re4"
      },
      "execution_count": 19,
      "outputs": []
    },
    {
      "cell_type": "code",
      "source": [
        "# create embeddings for the whole data chunks and store them in a list\n",
        "\n",
        "embeddings = []\n",
        "for chunk in flattened_df['chunks']:\n",
        "    embeddings.append(create_embeddings(chunk))\n",
        "\n",
        "# store the embeddings in the dataframe\n",
        "flattened_df['embeddings'] = embeddings"
      ],
      "metadata": {
        "id": "8XoUOqEd7Rl9"
      },
      "execution_count": null,
      "outputs": []
    },
    {
      "cell_type": "code",
      "source": [
        "# create a id and metadata columns\n",
        "flattened_df['id'] = flattened_df['year'].astype(str) + '_' + flattened_df['no'].astype(str)\n",
        "flattened_df['metadata'] = flattened_df.apply(lambda x: { 'text': x['chunks'],'source': x['source']}, axis=1)"
      ],
      "metadata": {
        "id": "FYlNyg88NYVs"
      },
      "execution_count": null,
      "outputs": []
    },
    {
      "cell_type": "code",
      "source": [
        "flattened_df.head()"
      ],
      "metadata": {
        "colab": {
          "base_uri": "https://localhost:8080/",
          "height": 379
        },
        "id": "YL0N7X6QXEHt",
        "outputId": "c1475587-2710-49d7-9907-9710661522c2"
      },
      "execution_count": null,
      "outputs": [
        {
          "output_type": "execute_result",
          "data": {
            "text/plain": [
              "                                              source  \\\n",
              "0  https://www.financialexpress.com/sports/ipl/kk...   \n",
              "0  https://www.financialexpress.com/sports/ipl/kk...   \n",
              "0  https://www.financialexpress.com/sports/ipl/kk...   \n",
              "0  https://www.financialexpress.com/sports/ipl/kk...   \n",
              "0  https://www.financialexpress.com/sports/ipl/kk...   \n",
              "\n",
              "                                                text  \\\n",
              "0  Kolkata Knight Riders vs Sunrisers Hyderabad Q...   \n",
              "0  Kolkata Knight Riders vs Sunrisers Hyderabad Q...   \n",
              "0  Kolkata Knight Riders vs Sunrisers Hyderabad Q...   \n",
              "0  Kolkata Knight Riders vs Sunrisers Hyderabad Q...   \n",
              "0  Kolkata Knight Riders vs Sunrisers Hyderabad Q...   \n",
              "\n",
              "                                              chunks  year  no  \\\n",
              "0  Kolkata Knight Riders vs Sunrisers Hyderabad Q...  2024   1   \n",
              "0  Mitchell Starc, IPLs costliest buy, delivered ...  2024   2   \n",
              "0  but SRHs batting collapsed. Pat Cummins added ...  2024   3   \n",
              "0  korbo, jeetbo theme song playing at Narendra M...  2024   4   \n",
              "0  of RCB fixtures and list of matches with venue...  2024   5   \n",
              "\n",
              "                                          embeddings      id  \\\n",
              "0  [0.007586794439703226, -0.020128775388002396, ...  2024_1   \n",
              "0  [-0.005107360891997814, 0.008798280730843544, ...  2024_2   \n",
              "0  [0.00671883812174201, -0.003964687697589397, 0...  2024_3   \n",
              "0  [-0.013291221112012863, -0.026689574122428894,...  2024_4   \n",
              "0  [-0.0010939022758975625, -0.010952485725283623...  2024_5   \n",
              "\n",
              "                                            metadata  \n",
              "0  {'text': 'Kolkata Knight Riders vs Sunrisers H...  \n",
              "0  {'text': 'Mitchell Starc, IPLs costliest buy, ...  \n",
              "0  {'text': 'but SRHs batting collapsed. Pat Cumm...  \n",
              "0  {'text': 'korbo, jeetbo theme song playing at ...  \n",
              "0  {'text': 'of RCB fixtures and list of matches ...  "
            ],
            "text/html": [
              "\n",
              "  <div id=\"df-2694ef03-f952-425c-9c50-0c400d9a17a6\" class=\"colab-df-container\">\n",
              "    <div>\n",
              "<style scoped>\n",
              "    .dataframe tbody tr th:only-of-type {\n",
              "        vertical-align: middle;\n",
              "    }\n",
              "\n",
              "    .dataframe tbody tr th {\n",
              "        vertical-align: top;\n",
              "    }\n",
              "\n",
              "    .dataframe thead th {\n",
              "        text-align: right;\n",
              "    }\n",
              "</style>\n",
              "<table border=\"1\" class=\"dataframe\">\n",
              "  <thead>\n",
              "    <tr style=\"text-align: right;\">\n",
              "      <th></th>\n",
              "      <th>source</th>\n",
              "      <th>text</th>\n",
              "      <th>chunks</th>\n",
              "      <th>year</th>\n",
              "      <th>no</th>\n",
              "      <th>embeddings</th>\n",
              "      <th>id</th>\n",
              "      <th>metadata</th>\n",
              "    </tr>\n",
              "  </thead>\n",
              "  <tbody>\n",
              "    <tr>\n",
              "      <th>0</th>\n",
              "      <td>https://www.financialexpress.com/sports/ipl/kk...</td>\n",
              "      <td>Kolkata Knight Riders vs Sunrisers Hyderabad Q...</td>\n",
              "      <td>Kolkata Knight Riders vs Sunrisers Hyderabad Q...</td>\n",
              "      <td>2024</td>\n",
              "      <td>1</td>\n",
              "      <td>[0.007586794439703226, -0.020128775388002396, ...</td>\n",
              "      <td>2024_1</td>\n",
              "      <td>{'text': 'Kolkata Knight Riders vs Sunrisers H...</td>\n",
              "    </tr>\n",
              "    <tr>\n",
              "      <th>0</th>\n",
              "      <td>https://www.financialexpress.com/sports/ipl/kk...</td>\n",
              "      <td>Kolkata Knight Riders vs Sunrisers Hyderabad Q...</td>\n",
              "      <td>Mitchell Starc, IPLs costliest buy, delivered ...</td>\n",
              "      <td>2024</td>\n",
              "      <td>2</td>\n",
              "      <td>[-0.005107360891997814, 0.008798280730843544, ...</td>\n",
              "      <td>2024_2</td>\n",
              "      <td>{'text': 'Mitchell Starc, IPLs costliest buy, ...</td>\n",
              "    </tr>\n",
              "    <tr>\n",
              "      <th>0</th>\n",
              "      <td>https://www.financialexpress.com/sports/ipl/kk...</td>\n",
              "      <td>Kolkata Knight Riders vs Sunrisers Hyderabad Q...</td>\n",
              "      <td>but SRHs batting collapsed. Pat Cummins added ...</td>\n",
              "      <td>2024</td>\n",
              "      <td>3</td>\n",
              "      <td>[0.00671883812174201, -0.003964687697589397, 0...</td>\n",
              "      <td>2024_3</td>\n",
              "      <td>{'text': 'but SRHs batting collapsed. Pat Cumm...</td>\n",
              "    </tr>\n",
              "    <tr>\n",
              "      <th>0</th>\n",
              "      <td>https://www.financialexpress.com/sports/ipl/kk...</td>\n",
              "      <td>Kolkata Knight Riders vs Sunrisers Hyderabad Q...</td>\n",
              "      <td>korbo, jeetbo theme song playing at Narendra M...</td>\n",
              "      <td>2024</td>\n",
              "      <td>4</td>\n",
              "      <td>[-0.013291221112012863, -0.026689574122428894,...</td>\n",
              "      <td>2024_4</td>\n",
              "      <td>{'text': 'korbo, jeetbo theme song playing at ...</td>\n",
              "    </tr>\n",
              "    <tr>\n",
              "      <th>0</th>\n",
              "      <td>https://www.financialexpress.com/sports/ipl/kk...</td>\n",
              "      <td>Kolkata Knight Riders vs Sunrisers Hyderabad Q...</td>\n",
              "      <td>of RCB fixtures and list of matches with venue...</td>\n",
              "      <td>2024</td>\n",
              "      <td>5</td>\n",
              "      <td>[-0.0010939022758975625, -0.010952485725283623...</td>\n",
              "      <td>2024_5</td>\n",
              "      <td>{'text': 'of RCB fixtures and list of matches ...</td>\n",
              "    </tr>\n",
              "  </tbody>\n",
              "</table>\n",
              "</div>\n",
              "    <div class=\"colab-df-buttons\">\n",
              "\n",
              "  <div class=\"colab-df-container\">\n",
              "    <button class=\"colab-df-convert\" onclick=\"convertToInteractive('df-2694ef03-f952-425c-9c50-0c400d9a17a6')\"\n",
              "            title=\"Convert this dataframe to an interactive table.\"\n",
              "            style=\"display:none;\">\n",
              "\n",
              "  <svg xmlns=\"http://www.w3.org/2000/svg\" height=\"24px\" viewBox=\"0 -960 960 960\">\n",
              "    <path d=\"M120-120v-720h720v720H120Zm60-500h600v-160H180v160Zm220 220h160v-160H400v160Zm0 220h160v-160H400v160ZM180-400h160v-160H180v160Zm440 0h160v-160H620v160ZM180-180h160v-160H180v160Zm440 0h160v-160H620v160Z\"/>\n",
              "  </svg>\n",
              "    </button>\n",
              "\n",
              "  <style>\n",
              "    .colab-df-container {\n",
              "      display:flex;\n",
              "      gap: 12px;\n",
              "    }\n",
              "\n",
              "    .colab-df-convert {\n",
              "      background-color: #E8F0FE;\n",
              "      border: none;\n",
              "      border-radius: 50%;\n",
              "      cursor: pointer;\n",
              "      display: none;\n",
              "      fill: #1967D2;\n",
              "      height: 32px;\n",
              "      padding: 0 0 0 0;\n",
              "      width: 32px;\n",
              "    }\n",
              "\n",
              "    .colab-df-convert:hover {\n",
              "      background-color: #E2EBFA;\n",
              "      box-shadow: 0px 1px 2px rgba(60, 64, 67, 0.3), 0px 1px 3px 1px rgba(60, 64, 67, 0.15);\n",
              "      fill: #174EA6;\n",
              "    }\n",
              "\n",
              "    .colab-df-buttons div {\n",
              "      margin-bottom: 4px;\n",
              "    }\n",
              "\n",
              "    [theme=dark] .colab-df-convert {\n",
              "      background-color: #3B4455;\n",
              "      fill: #D2E3FC;\n",
              "    }\n",
              "\n",
              "    [theme=dark] .colab-df-convert:hover {\n",
              "      background-color: #434B5C;\n",
              "      box-shadow: 0px 1px 3px 1px rgba(0, 0, 0, 0.15);\n",
              "      filter: drop-shadow(0px 1px 2px rgba(0, 0, 0, 0.3));\n",
              "      fill: #FFFFFF;\n",
              "    }\n",
              "  </style>\n",
              "\n",
              "    <script>\n",
              "      const buttonEl =\n",
              "        document.querySelector('#df-2694ef03-f952-425c-9c50-0c400d9a17a6 button.colab-df-convert');\n",
              "      buttonEl.style.display =\n",
              "        google.colab.kernel.accessAllowed ? 'block' : 'none';\n",
              "\n",
              "      async function convertToInteractive(key) {\n",
              "        const element = document.querySelector('#df-2694ef03-f952-425c-9c50-0c400d9a17a6');\n",
              "        const dataTable =\n",
              "          await google.colab.kernel.invokeFunction('convertToInteractive',\n",
              "                                                    [key], {});\n",
              "        if (!dataTable) return;\n",
              "\n",
              "        const docLinkHtml = 'Like what you see? Visit the ' +\n",
              "          '<a target=\"_blank\" href=https://colab.research.google.com/notebooks/data_table.ipynb>data table notebook</a>'\n",
              "          + ' to learn more about interactive tables.';\n",
              "        element.innerHTML = '';\n",
              "        dataTable['output_type'] = 'display_data';\n",
              "        await google.colab.output.renderOutput(dataTable, element);\n",
              "        const docLink = document.createElement('div');\n",
              "        docLink.innerHTML = docLinkHtml;\n",
              "        element.appendChild(docLink);\n",
              "      }\n",
              "    </script>\n",
              "  </div>\n",
              "\n",
              "\n",
              "<div id=\"df-0f0a9c05-a847-4abb-95d0-a20ef07f0822\">\n",
              "  <button class=\"colab-df-quickchart\" onclick=\"quickchart('df-0f0a9c05-a847-4abb-95d0-a20ef07f0822')\"\n",
              "            title=\"Suggest charts\"\n",
              "            style=\"display:none;\">\n",
              "\n",
              "<svg xmlns=\"http://www.w3.org/2000/svg\" height=\"24px\"viewBox=\"0 0 24 24\"\n",
              "     width=\"24px\">\n",
              "    <g>\n",
              "        <path d=\"M19 3H5c-1.1 0-2 .9-2 2v14c0 1.1.9 2 2 2h14c1.1 0 2-.9 2-2V5c0-1.1-.9-2-2-2zM9 17H7v-7h2v7zm4 0h-2V7h2v10zm4 0h-2v-4h2v4z\"/>\n",
              "    </g>\n",
              "</svg>\n",
              "  </button>\n",
              "\n",
              "<style>\n",
              "  .colab-df-quickchart {\n",
              "      --bg-color: #E8F0FE;\n",
              "      --fill-color: #1967D2;\n",
              "      --hover-bg-color: #E2EBFA;\n",
              "      --hover-fill-color: #174EA6;\n",
              "      --disabled-fill-color: #AAA;\n",
              "      --disabled-bg-color: #DDD;\n",
              "  }\n",
              "\n",
              "  [theme=dark] .colab-df-quickchart {\n",
              "      --bg-color: #3B4455;\n",
              "      --fill-color: #D2E3FC;\n",
              "      --hover-bg-color: #434B5C;\n",
              "      --hover-fill-color: #FFFFFF;\n",
              "      --disabled-bg-color: #3B4455;\n",
              "      --disabled-fill-color: #666;\n",
              "  }\n",
              "\n",
              "  .colab-df-quickchart {\n",
              "    background-color: var(--bg-color);\n",
              "    border: none;\n",
              "    border-radius: 50%;\n",
              "    cursor: pointer;\n",
              "    display: none;\n",
              "    fill: var(--fill-color);\n",
              "    height: 32px;\n",
              "    padding: 0;\n",
              "    width: 32px;\n",
              "  }\n",
              "\n",
              "  .colab-df-quickchart:hover {\n",
              "    background-color: var(--hover-bg-color);\n",
              "    box-shadow: 0 1px 2px rgba(60, 64, 67, 0.3), 0 1px 3px 1px rgba(60, 64, 67, 0.15);\n",
              "    fill: var(--button-hover-fill-color);\n",
              "  }\n",
              "\n",
              "  .colab-df-quickchart-complete:disabled,\n",
              "  .colab-df-quickchart-complete:disabled:hover {\n",
              "    background-color: var(--disabled-bg-color);\n",
              "    fill: var(--disabled-fill-color);\n",
              "    box-shadow: none;\n",
              "  }\n",
              "\n",
              "  .colab-df-spinner {\n",
              "    border: 2px solid var(--fill-color);\n",
              "    border-color: transparent;\n",
              "    border-bottom-color: var(--fill-color);\n",
              "    animation:\n",
              "      spin 1s steps(1) infinite;\n",
              "  }\n",
              "\n",
              "  @keyframes spin {\n",
              "    0% {\n",
              "      border-color: transparent;\n",
              "      border-bottom-color: var(--fill-color);\n",
              "      border-left-color: var(--fill-color);\n",
              "    }\n",
              "    20% {\n",
              "      border-color: transparent;\n",
              "      border-left-color: var(--fill-color);\n",
              "      border-top-color: var(--fill-color);\n",
              "    }\n",
              "    30% {\n",
              "      border-color: transparent;\n",
              "      border-left-color: var(--fill-color);\n",
              "      border-top-color: var(--fill-color);\n",
              "      border-right-color: var(--fill-color);\n",
              "    }\n",
              "    40% {\n",
              "      border-color: transparent;\n",
              "      border-right-color: var(--fill-color);\n",
              "      border-top-color: var(--fill-color);\n",
              "    }\n",
              "    60% {\n",
              "      border-color: transparent;\n",
              "      border-right-color: var(--fill-color);\n",
              "    }\n",
              "    80% {\n",
              "      border-color: transparent;\n",
              "      border-right-color: var(--fill-color);\n",
              "      border-bottom-color: var(--fill-color);\n",
              "    }\n",
              "    90% {\n",
              "      border-color: transparent;\n",
              "      border-bottom-color: var(--fill-color);\n",
              "    }\n",
              "  }\n",
              "</style>\n",
              "\n",
              "  <script>\n",
              "    async function quickchart(key) {\n",
              "      const quickchartButtonEl =\n",
              "        document.querySelector('#' + key + ' button');\n",
              "      quickchartButtonEl.disabled = true;  // To prevent multiple clicks.\n",
              "      quickchartButtonEl.classList.add('colab-df-spinner');\n",
              "      try {\n",
              "        const charts = await google.colab.kernel.invokeFunction(\n",
              "            'suggestCharts', [key], {});\n",
              "      } catch (error) {\n",
              "        console.error('Error during call to suggestCharts:', error);\n",
              "      }\n",
              "      quickchartButtonEl.classList.remove('colab-df-spinner');\n",
              "      quickchartButtonEl.classList.add('colab-df-quickchart-complete');\n",
              "    }\n",
              "    (() => {\n",
              "      let quickchartButtonEl =\n",
              "        document.querySelector('#df-0f0a9c05-a847-4abb-95d0-a20ef07f0822 button');\n",
              "      quickchartButtonEl.style.display =\n",
              "        google.colab.kernel.accessAllowed ? 'block' : 'none';\n",
              "    })();\n",
              "  </script>\n",
              "</div>\n",
              "\n",
              "    </div>\n",
              "  </div>\n"
            ],
            "application/vnd.google.colaboratory.intrinsic+json": {
              "type": "dataframe",
              "variable_name": "flattened_df",
              "summary": "{\n  \"name\": \"flattened_df\",\n  \"rows\": 42,\n  \"fields\": [\n    {\n      \"column\": \"source\",\n      \"properties\": {\n        \"dtype\": \"category\",\n        \"num_unique_values\": 4,\n        \"samples\": [\n          \"https://www.financialexpress.com/sports/ipl/rr-vs-rcb-live-match-score-ipl-2024-rajasthan-royals-vs-royal-challengers-bengaluru-eliminator-live-match-updates-scorecard/3497628/\",\n          \"https://www.financialexpress.com/sports/ipl/kkr-vs-srh-live-score-ipl-2024-final-match-live-updates-kolkata-knight-riders-vs-sunrisers-hyderabad-ipl-final-may-26-today-scorecard-latest-updates/3501995/\",\n          \"https://www.financialexpress.com/sports/ipl/kkr-vs-srh-qualifier-1-live-scorecard-ipl-2024-match-71-kolkata-knight-riders-vs-sunrisers-hyderabad-live-score/3495970/\"\n        ],\n        \"semantic_type\": \"\",\n        \"description\": \"\"\n      }\n    },\n    {\n      \"column\": \"text\",\n      \"properties\": {\n        \"dtype\": \"category\",\n        \"num_unique_values\": 4,\n        \"samples\": [\n          \"Rajasthan Royals vs Royal Challengers Bengaluru Highlights, IPL 2024 Eliminator: Rajasthan Royals have been the best bowling side in this edition of Indian Premier League and tonight, they are living up to that image. Winning toss and electing to field first, RR bowlers maintained a chokehold on the RCB batters from the word go. Though Virat Kohli achieved that magnificent milestone of becoming first-ever player to get 8,000 runs in the history of IPL, RCB were not able to get as many runs on the board. Both Kohli and Faf Du Plessis fell cheaply and Rajat Patidar and Cameron Green couldnt give the much-needed acceleration. Not a single player managed to score a fifty showing the sheer dominance of RR bowlers. Ravichandran Ashwin picked up two wickets in an over whereas Trent Boult and Yuzvendra Chahal picked up one wicket each. Avesh Khan emerged as the most successful bowler as he picked up three wickets. But he conceded 44 runs in his spell. Rajat Patidar 34 off 22 was the top-scorer for RCB. Also Read Chennai Super Kings Spot-Fixing Scandal: The IPL ban and Dhonis reaction on this dark chapter IPL 2024 CSK vs RCB: Virat Kohli stirs controversy with his aggressive send-off to Rachin Ravindra RCB vs KKR Live Score, IPL 2024: Kolkata Knight Riders thrash Royal Challengers Bengaluru in a 7-wicket win at Chinnaswamy Glenn Maxwells rollercoaster IPL 2024 season: Can he redeem himself in playoffs? Rajasthan Royals vs Royal Challengers Bengaluru Live Score, IPL 2024 Eliminator: Rajasthan Royals chase After restricting RCB to a 172, RR had a solid start with Tom Kohler-Cadmore and Yashasvi Jaiswal laying the foundation. After Lockie Ferguson got the breakthrough wicket of Tom Kohler-Cadmore, RR saw a fall of wickets in the 9th, 10th and 14th over. But this didnt dampen the spirits of RR and the chase remains firmly on track. Shimron Hetmyer has come as an impact sub. Known for classic hard-hitting, Hetmyer can finish the job rather quickly. While Virat Kohli made history by becoming the first batter to score 8000 runs, RCB still had a bit of hard luck in qualifying for the first Eliminator round. Riyan Parag got the last run after Rovman Powell hit four twice in the 18th over. While RCB fans hoped for a plot twist with two consecutive wickets, RR proved themselves again. Match Ended Indian Premier League, 2024 Rajasthan Royals 174/6 19.0 vs Royal Challengers Bengaluru 172/8 20.0 Match Ended Day Eliminator Rajasthan Royals beat Royal Challengers Bengaluru by 4 wickets View Scorecard HIGHLIGHTS of RR vs RCB Eliminator Match 72 Live Updates 23:25 IST 22 May 2024 RR vs RCB Live Score, IPL 2024 Eliminator: RR win by 4 wickets Riyan Parag 36 and Shimron Hetmyer 26 guided the Rajasthan Royals to a 4-wicket victory over the Royal Challengers Bangalore. Chasing a target of 173 runs set by RCB, RR successfully reached the mark. With this win, RR moves to the second eliminator against SRH on Friday, while RCBs journey in this IPL season comes to an end. 23:21 IST 22 May 2024 RR vs RCB Live Score, IPL 2024 Eliminator: RR still on game Rovman Powell hit 4 twice. 5 More to go. 23:20 IST 22 May 2024 RR vs RCB Live Score, IPL 2024 Eliminator: RCB takes another wicket Last ball of the 18th over, Siraj gets the second wicket, caught by Du Plessis. RR 160/6 after 18 overs. 23:10 IST 22 May 2024 RR vs RCB Live Score, IPL 2024 Eliminator: match goes down the wire! RR 153/4 after 16.4 overs Parag and Hetmyer are here to finish the job! The match goes down the wire with odds heavily in favour of RR. 22:50 IST 22 May 2024 RR vs RCB Live Score, IPL 2024 Eliminator: Jurel GONE! RR 114/4 after 13.5 overs If Virat Kohli throws a ball for a direct hit, it means it is a hit. A runout for Dhruv Jurel and RCB get wicket number 4. Hetmyer has come as an impact sub. 22:40 IST 22 May 2024 RR vs RCB Live Score, IPL 2024 Eliminator: RR 100/3 after 12 overs Rajasthan Royals are 100/3 at the end of 12 overs. 70 more runs to win over RCB. 22:27 IST 22 May 2024 RR vs RCB Live Score, IPL 2024 Eliminator: Another WICKET! Right after Jaiswal, RR witnessed another wicket of Sanju Samson. 22:25 IST 22 May 2024 RR vs RCB Live Score, IPL 2024 Eliminator: Jaiswal out at 45 Cameron Green secures the breakthrough, dismissing Yashasvi Jaiswal for 45 runs. Rajasthan Royals are now at 81/2. 22:13 IST 22 May 2024 RR vs RCB Live Score, IPL 2024 Eliminator: RR stands at 74/1 Rajasthan Royals need 99 runs in 72 balls. 22:01 IST 22 May 2024 RR vs RCB Live Score, IPL 2024 Eliminator: RR first wicket Ferguson takes RRs first wicket after 46 runs in 5 overs. 21:53 IST 22 May 2024 RR vs RCB Live Score, IPL 2024 Eliminator: RR at 33/0 Jaiswal smashes consecutive boundaries off Sirajs first two deliveries in the new over. He adds another four on the fifth delivery, taking Rajasthan Royals to 35/0 after 4 overs. 21:43 IST 22 May 2024 RR vs RCB Live Score, IPL 2024 Eliminator: RR are 6/0 in 2.1 overs Yashasvi Jaiswal and Tom Kohler-Cadmore have opened for Rajasthan Royals. So far, Swapnil Singh, Mohammed Siraj and Yash Dayal have bowled so far but no breakthrough wicket for RCB yet. 21:40 IST 22 May 2024 RR vs RCB Live Score, IPL 2024 Eliminator: Second inning starts with Jaiswal Yashasvi Jaiswal and Tom Kohler-Cadmore are opening the innings for the Rajasthan Royals. Swapnil Singh has taken the ball to bowl the first over for RCB. At the end of the first over, Rajasthan Royals are 2 for no loss. 21:23 IST 22 May 2024 RR vs RCB Live Score, IPL 2024 Eliminator: RCB are 172/8 in 20 overs Why are we saying restrict. Simply because had it not been the stellar bowling attack of Rajasthan Royals, RCB in their current form could have very easily scored 220+ on this red soil flat pitch. 21:15 IST 22 May 2024 RR vs RCB Live Score, IPL 2024 Eliminator: RCB are 164/7 in 19.2 overs After Ravichandran Ashwin, Avesh Khan becomes second Rajasthan Royals bowler to pick up two wickets in an over. First, he got Dinesh Karthik and couple of deliveries later, Khan dismissed Mahipal Lomror 21:10 IST 22 May 2024 RR vs RCB Live Score, IPL 2024 Eliminator: Dinesh Karthik GONE! RCB are 159/6 in 18.4 overs Avesh Khan was fated to take the wicket of Dinesh Krathik it seems! After DK survived the 15th over drama, Khan got DK in the 19th over. Swapnil Singh joins Lmoror in the middle 21:05 IST 22 May 2024 RR vs RCB Live Score, IPL 2024 Eliminator: RCB are 154/5 in 18 overs Dinesh Karthik and Mahipal Lomror are anchoring the RCB innings and keeping things steady for Bengaluru. DK survived a scare in Avesh Khans over, since then Bengaluru are drudging along. 20:46 IST 22 May 2024 RR vs RCB Live Score, IPL 2024 Eliminator: RCB are 125/5 in 15 overs 28 runs and 3 wickets Thats how Rajasthan Royals bowlers are dominating the game. No RCB batter Rajat Patidar, Cameron Green, Glenn Maxwell were able to withstand the Rajasthan storm. 20:35 IST 22 May 2024 RR vs RCB Live Score, IPL 2024 Eliminator: Ashwin gets two in two! RCB are 103/4 in 13 overs What an over by Ravichandran Ashwin! First, he gets Cameron Green and in the very next ball, Maxwell goes back for 0. RCBs top order collapses. At present, the projected score is 150 20:24 IST 22 May 2024 RR vs RCB Live Score, IPL 2024 Eliminator: RCB are 83/2 in 11.2 overs Rajat Patidar and Cameron Green have simple task at hand not to lose wicket and keep rotating the strike. With both openers Virat Kohli and Faf Du Plessis back in the dugout, all eyes are on these two batters. They both have played robust innings in the past remember the match against DC , RCB can expect some late fireworks. Patidar was dropped by Dhruv Jurel at 5. Is this a turning point? 20:09 IST 22 May 2024 RR vs RCB Live Score, IPL 2024 Eliminator: Virat Kohli scripts history! This is not the first time that he has achieved the first feat. He has been the first player to score 4,000 runs and subsequently 5,500 runs, 6,000 runs, 6,500 runs, 7,000 runs, 7,500 runs and then finally 8,000 runs! Kohli departs at 33. Chahal gets him in the 8th over. Read More RCB are 56/2 in 7.2 overs 20:02 IST 22 May 2024 RR vs RCB Live Score, IPL 2024 Eliminator: RCB are 50/1 in 6 overs After departure of Faf Du Plessis, Cameron Green joins Kohli in the middle. Fifty comes up for RCB. 19:55 IST 22 May 2024 RR vs RCB Live Score, IPL 2024 Eliminator: Faf du Plessis OUT! RCB are 37/1 in 5 overs Rovman Powell, what a catch! Faf du Plessis hits a length ball hard and fast, but Powell sprints in from deep midwicket and dives forward to secure it, giving the Rajasthan Royals their first breakthrough. This is surely a contender for catch of the season. While Boult gets the wicket, its Powells fielding brilliance that makes it happen! 19:49 IST 22 May 2024 RR vs RCB Live Score, IPL 2024 Eliminator: RCB are 34/0 in 4 overs Now we see Avesh Khan in action. But Kohli and Faf have decided to make up for the slow start. Kohli gets first six and second delivery gets Faf to deposit ball over the rope for a boundary. Is this the start of RCB run machine? 19:44 IST 22 May 2024 RR vs RCB Live Score, IPL 2024 Eliminator: RCB are 17/0 in 3 overs Boult is back again. With that swinging, RCB batters find it difficult to score runs. After Sharmas over, now the runs are coming in singles. We see singles and dot balls. But RCB wont mind this as long as Faf and Kohli are in the middle. 19:39 IST 22 May 2024 RR vs RCB Live Score, IPL 2024 Eliminator: RCB are 14/0 in 2 overs After Trent Boult, Samson brought in Sandeep Sharma. Kohli smashes the first boundary of the match with RCB chants all over Motera. After Kohlis boundary, Faf gets the first maximum of the night. Good over for RCB. 19:36 IST 22 May 2024 RR vs RCB Live Score, IPL 2024 Eliminator: RCB are 2/0 in 1 overs As usual, we see Trent Boult bowling the first over. There was an in swinging yorker, an appeal. But both Faf Du Plessis and Virat Kohli were their defensive best. No wicket for Boult in the first over. 19:29 IST 22 May 2024 RR vs RCB Live Score, IPL 2024 Eliminator: Shah Rukh Khan down with heatstroke! We saw KKR owner Shah Rukh Khans victory lap shortly after Shreyas Iyer and co outclassed SRH and sealed the 8-wicket win. There were some reports of SRK being admitted to the hospital. Now Gujarat Police has confirmed, PTI says that SRK has been admitted to hospital due to heatstroke. Read More 19:21 IST 22 May 2024 RR vs RCB Live Score, IPL 2024 Eliminator: Why chase would be a headache for Rajasthan Royals? Remember, Jos Buttler is back to the national duty and Yashasvi Jaiswal is suffering a slump. A lot will depend on young Riyan Parag, Dhruv Jurel and skipper Samson during the chase. 19:16 IST 22 May 2024 RR vs RCB Live Score, IPL 2024 Eliminator: Why Sanju Samson decided to bowl first? At the time of the toss, RR skipper Samson said that he was opting to field first because of dew factor. he said that there was lot of dew last night. Another big change for RR is that Shimron Hetmyer returns to the Playing XI after recovering from the injury.\",\n          \"Kolkata Knight Riders vs Sunrisers Hyderabad IPL 2024 Final Live Score: Sunrisers Hyderabad are often credited for bringing the runfest trend in this season IPL. In their league match against RCB, they smashed 287/3 -the highest innings total in history of IPL. on Sunday, they created another record. This time, it was the poles opposite of that league game supershow. In the IPL 2024 final, SRH scored just 113 all out, which is the lowest total that the tournament has seen in the title clash so far. Winning toss and opting to bat first, Pat Cummins looked every bit the confident captain that he has been. Also Read Kavya Maran seen worried as Sunrisers Hyderabad collapse in IPL 2024 final against KKR WATCH Was it the red-soil pitch, the ace bowling attack or poor judgment by Cummins or all of these, KKR totally overshadowed the game and made it a one-sided affair, again. We saw Mitch Starcs ball of the tournament dismissing Abhishek Sharma, Vaibhav Arora get Travis Head for golden duck. Not once there was some fight-back by the Orange Army. While Starc picked up two wickets both inside the powerplay , Andre Russell took three wickets. SRH looked like a distant shadow of the past. In the end, they were restricted for just 113 all out in 20 overs at MA Chidambaram Stadium on Sunday. The ! KKRvSRH Final TheFinalCall KKRiders Also Read Chennai Super Kings Spot-Fixing Scandal: The IPL ban and Dhonis reaction on this dark chapter IPL 2024 CSK vs RCB: Virat Kohli stirs controversy with his aggressive send-off to Rachin Ravindra RCB vs KKR Live Score, IPL 2024: Kolkata Knight Riders thrash Royal Challengers Bengaluru in a 7-wicket win at Chinnaswamy IPL Auction 2018: Manish Pandey sold to SRH for Rs 11 cr; All you need to know about him May 26, 2024 KKR vs SRH Live Score, IPL 2024 Final: Kolkata Knight Riders crowned IPL champions, again! Chasing down the below-par target of 114, Kolkata Knight Riders batters knew what their job was to get the score as quickly as possible. Pat Cummins did manage to put some hurdle as he took the wicket of Sunil Narine in the powerplay, however, it was not enough to defend the total. Venkatesh Iyers breezy 52 off 26 balls along with Rahmanullah Gurbazs 39 off 32 sealed the deal. Shreyas Iyer joined Venkatesh towards the end and finished the job. This is for the third time in the history of IPL that KKR have been crowned the champions. Match Ended Indian Premier League, 2024 Kolkata Knight Riders 114/2 10.3 vs Sunrisers Hyderabad 113 18.3 Match Ended Day Final Kolkata Knight Riders beat Sunrisers Hyderabad by 8 wickets View Scorecard Here are key moments of KKR vs SRH IPL Final Match Live Updates\",\n          \"Kolkata Knight Riders vs Sunrisers Hyderabad Qualifier 1, IPL 2024 HIGHLIGHTS: Kolkata Knight Riders are on roll this year! They were the first team to get into the playoffs, they are the first team to qualify for the IPL 2024 finale of May 26 on Sunday. Shreyas Iyer & co defeated Sunrisers Hyderabad by 8 wickets with 38 balls to spare. This is the fourth time in the history of IPL that KKR will be playing the final match. Earlier in the day, Mitchell Starc, IPLs costliest buy, delivered a sensational three-wicket burst, leading Kolkata Knight Riders to bowl out Sunrisers Hyderabad for a below-par 159 in Qualifier 1. Starc struck on the second ball, dismissing Travis Head, followed by wickets of Nitish Reddy 9 and Shahbaz Ahmed 0 inside the powerplay, leaving SRH reeling at 39/3. Despite Rahul Tripathis counterattack with 55 off 35, SRH couldnt recover. Heinrich Klaasen contributed 32, but SRHs batting collapsed. Pat Cummins added a crucial 30 off 24, partnering with Vijayakanth Viyaskanth for a 33-run last-wicket stand to push SRH past 150. Starcs opening spell of 3-0-22-3 set the tone for KKRs dominance. In reply, KKR skipper Shreyas Iyer and top order batter Venkatesh Iyer added 97 runs for the third wicket stand that sealed the finale spot for the Purple Army! KKR owner Shah Rukh Khan was seen greeting the audience with lorbo, korbo, jeetbo theme song playing at Narendra Modi Stadium. Also Read Chennai Super Kings Spot-Fixing Scandal: The IPL ban and Dhonis reaction on this dark chapter IPL 2024: Teams unveil their official jerseys ahead of much-anticipated tournament kickoff tomorrow RCB vs CSK HIGHLIGHTS: RCB qualify for IPL 2024 as Faf Du Plessis & co beat Chennai Super kings by 27 runs IPL 2018 Royal Challengers Bangalore team, squad analysis, players: Full list of RCB fixtures and list of matches with venue Match Ended Indian Premier League, 2024 Kolkata Knight Riders 164/2 13.4 vs Sunrisers Hyderabad 159 19.3 Match Ended Day Qualifier 1 Kolkata Knight Riders beat Sunrisers Hyderabad by 8 wickets View Scorecard Here are key moments of KKR vs SRH Qualifier 1 Match 71 Live Updates\"\n        ],\n        \"semantic_type\": \"\",\n        \"description\": \"\"\n      }\n    },\n    {\n      \"column\": \"chunks\",\n      \"properties\": {\n        \"dtype\": \"string\",\n        \"num_unique_values\": 42,\n        \"samples\": [\n          \"19:44 IST 22 May 2024 RR vs RCB Live Score, IPL 2024 Eliminator: RCB are 17/0 in 3 overs Boult is back again. With that swinging, RCB batters find it difficult to score runs. After Sharmas over, now the runs are coming in singles. We see singles and dot balls. But RCB wont mind this as long as Faf and Kohli are in the middle. 19:39 IST 22 May 2024 RR vs RCB Live Score, IPL 2024 Eliminator: RCB are 14/0 in 2 overs After Trent Boult, Samson brought in Sandeep Sharma. Kohli smashes the first\",\n          \"GONE! RR 114/4 after 13.5 overs If Virat Kohli throws a ball for a direct hit, it means it is a hit. A runout for Dhruv Jurel and RCB get wicket number 4. Hetmyer has come as an impact sub. 22:40 IST 22 May 2024 RR vs RCB Live Score, IPL 2024 Eliminator: RR 100/3 after 12 overs Rajasthan Royals are 100/3 at the end of 12 overs. 70 more runs to win over RCB. 22:27 IST 22 May 2024 RR vs RCB Live Score, IPL 2024 Eliminator: Another WICKET! Right after Jaiswal, RR witnessed another wicket of Sanju\",\n          \"rollercoaster IPL 2024 season: Can he redeem himself in playoffs? Rajasthan Royals vs Royal Challengers Bengaluru Live Score, IPL 2024 Eliminator: Rajasthan Royals chase After restricting RCB to a 172, RR had a solid start with Tom Kohler-Cadmore and Yashasvi Jaiswal laying the foundation. After Lockie Ferguson got the breakthrough wicket of Tom Kohler-Cadmore, RR saw a fall of wickets in the 9th, 10th and 14th over. But this didnt dampen the spirits of RR and the chase remains firmly on track.\"\n        ],\n        \"semantic_type\": \"\",\n        \"description\": \"\"\n      }\n    },\n    {\n      \"column\": \"year\",\n      \"properties\": {\n        \"dtype\": \"date\",\n        \"min\": \"2024\",\n        \"max\": \"2024\",\n        \"num_unique_values\": 1,\n        \"samples\": [\n          \"2024\"\n        ],\n        \"semantic_type\": \"\",\n        \"description\": \"\"\n      }\n    },\n    {\n      \"column\": \"no\",\n      \"properties\": {\n        \"dtype\": \"number\",\n        \"std\": 12,\n        \"min\": 1,\n        \"max\": 42,\n        \"num_unique_values\": 42,\n        \"samples\": [\n          26\n        ],\n        \"semantic_type\": \"\",\n        \"description\": \"\"\n      }\n    },\n    {\n      \"column\": \"embeddings\",\n      \"properties\": {\n        \"dtype\": \"object\",\n        \"semantic_type\": \"\",\n        \"description\": \"\"\n      }\n    },\n    {\n      \"column\": \"id\",\n      \"properties\": {\n        \"dtype\": \"string\",\n        \"num_unique_values\": 42,\n        \"samples\": [\n          \"2024_26\"\n        ],\n        \"semantic_type\": \"\",\n        \"description\": \"\"\n      }\n    },\n    {\n      \"column\": \"metadata\",\n      \"properties\": {\n        \"dtype\": \"object\",\n        \"semantic_type\": \"\",\n        \"description\": \"\"\n      }\n    }\n  ]\n}"
            }
          },
          "metadata": {},
          "execution_count": 77
        }
      ]
    },
    {
      "cell_type": "markdown",
      "source": [
        "### Pinecone Index Configuration"
      ],
      "metadata": {
        "id": "a07AK0iHBc4d"
      }
    },
    {
      "cell_type": "code",
      "source": [
        "PC_KEY = userdata.get('PC_TOKEN')"
      ],
      "metadata": {
        "id": "05lOpyUeBh0Y"
      },
      "execution_count": 20,
      "outputs": []
    },
    {
      "cell_type": "code",
      "source": [
        "from pinecone import Pinecone\n",
        "from pinecone import ServerlessSpec"
      ],
      "metadata": {
        "id": "Rulgc1TjBjJi"
      },
      "execution_count": 21,
      "outputs": []
    },
    {
      "cell_type": "code",
      "source": [
        "# Configure Pinecone Vectorbase Client\n",
        "pc = Pinecone(api_key=PC_KEY)\n",
        "\n",
        "# Config Pinecone ServerlessSpec\n",
        "cloud = os.environ.get('PINECONE_CLOUD') or 'aws'\n",
        "region = os.environ.get('PINECONE_REGION') or 'us-east-1'\n",
        "\n",
        "spec = ServerlessSpec(cloud=cloud, region=region)\n",
        "\n",
        "# Create a index in Pinecone\n",
        "\n",
        "index_name = 'ipl-rag-2024'"
      ],
      "metadata": {
        "id": "fN4BZEwgBodO"
      },
      "execution_count": 22,
      "outputs": []
    },
    {
      "cell_type": "code",
      "source": [
        "# check if index already exists (it shouldn't if this is first time)\n",
        "if index_name not in pc.list_indexes().names():\n",
        "    # if does not exist, create index\n",
        "    pc.create_index(\n",
        "        index_name,\n",
        "        dimension=len(response.data[0].embedding),\n",
        "        metric='cosine',\n",
        "        spec=spec\n",
        "    )\n",
        "\n",
        "# connect to index\n",
        "index = pc.Index(index_name)\n",
        "# view index stats\n",
        "index.describe_index_stats()"
      ],
      "metadata": {
        "colab": {
          "base_uri": "https://localhost:8080/"
        },
        "id": "wrIwaZ4kB5rz",
        "outputId": "47eb26f0-fd77-420c-cc2e-be0be08d7e5e"
      },
      "execution_count": 23,
      "outputs": [
        {
          "output_type": "execute_result",
          "data": {
            "text/plain": [
              "{'dimension': 1536,\n",
              " 'index_fullness': 0.0,\n",
              " 'namespaces': {'': {'vector_count': 42}},\n",
              " 'total_vector_count': 42}"
            ]
          },
          "metadata": {},
          "execution_count": 23
        }
      ]
    },
    {
      "cell_type": "code",
      "source": [
        "# Upserting vectors and metadata in index\n",
        "for _, row in flattened_df.iterrows():\n",
        "    record = {\n",
        "        \"id\": row[\"id\"],\n",
        "        \"values\": row[\"embeddings\"],\n",
        "        \"metadata\": row[\"metadata\"]\n",
        "    }\n",
        "    index.upsert(vectors=[record])"
      ],
      "metadata": {
        "id": "JhGZNTaWFdmR"
      },
      "execution_count": null,
      "outputs": []
    },
    {
      "cell_type": "code",
      "source": [
        "index.describe_index_stats()"
      ],
      "metadata": {
        "colab": {
          "base_uri": "https://localhost:8080/"
        },
        "id": "_3VHfWYjF7N2",
        "outputId": "69bc924a-f92d-470d-c519-da97baaaef88"
      },
      "execution_count": null,
      "outputs": [
        {
          "output_type": "execute_result",
          "data": {
            "text/plain": [
              "{'dimension': 1536,\n",
              " 'index_fullness': 0.0,\n",
              " 'namespaces': {'': {'vector_count': 42}},\n",
              " 'total_vector_count': 42}"
            ]
          },
          "metadata": {},
          "execution_count": 79
        }
      ]
    },
    {
      "cell_type": "markdown",
      "source": [
        "### Retrieval Of Relevant Documents"
      ],
      "metadata": {
        "id": "uCaabdyWSJtY"
      }
    },
    {
      "cell_type": "code",
      "source": [
        "query = \"Who won RR vs RCB eliminator IPL match?\"\n",
        "\n",
        "query_vectors = create_embeddings(query)"
      ],
      "metadata": {
        "id": "CTW-nwewGB-1"
      },
      "execution_count": 24,
      "outputs": []
    },
    {
      "cell_type": "code",
      "source": [
        "# get relevant contexts (including the questions)\n",
        "result = index.query(vector=query_vectors, top_k= 3, include_metadata=True)"
      ],
      "metadata": {
        "id": "rzTXlIrbIr3Z"
      },
      "execution_count": 25,
      "outputs": []
    },
    {
      "cell_type": "code",
      "source": [
        "result"
      ],
      "metadata": {
        "colab": {
          "base_uri": "https://localhost:8080/"
        },
        "id": "FPen-3x6IDeQ",
        "outputId": "863e3d39-c4be-4705-9ca4-a4c5f3c5c437"
      },
      "execution_count": 26,
      "outputs": [
        {
          "output_type": "execute_result",
          "data": {
            "text/plain": [
              "{'matches': [{'id': '2024_12',\n",
              "              'metadata': {'source': 'https://www.financialexpress.com/sports/ipl/rr-vs-rcb-live-match-score-ipl-2024-rajasthan-royals-vs-royal-challengers-bengaluru-eliminator-live-match-updates-scorecard/3497628/',\n",
              "                           'text': 'the Rajasthan Royals to a 4-wicket victory '\n",
              "                                   'over the Royal Challengers Bangalore. '\n",
              "                                   'Chasing a target of 173 runs set by RCB, '\n",
              "                                   'RR successfully reached the mark. With '\n",
              "                                   'this win, RR moves to the second '\n",
              "                                   'eliminator against SRH on Friday, while '\n",
              "                                   'RCBs journey in this IPL season comes to '\n",
              "                                   'an end. 23:21 IST 22 May 2024 RR vs RCB '\n",
              "                                   'Live Score, IPL 2024 Eliminator: RR still '\n",
              "                                   'on game Rovman Powell hit 4 twice. 5 More '\n",
              "                                   'to go. 23:20 IST 22 May 2024 RR vs RCB '\n",
              "                                   'Live Score, IPL 2024 Eliminator: RCB takes '\n",
              "                                   'another wicket'},\n",
              "              'score': 0.901190281,\n",
              "              'values': []},\n",
              "             {'id': '2024_11',\n",
              "              'metadata': {'source': 'https://www.financialexpress.com/sports/ipl/rr-vs-rcb-live-match-score-ipl-2024-rajasthan-royals-vs-royal-challengers-bengaluru-eliminator-live-match-updates-scorecard/3497628/',\n",
              "                           'text': 'consecutive wickets, RR proved themselves '\n",
              "                                   'again. Match Ended Indian Premier League, '\n",
              "                                   '2024 Rajasthan Royals 174/6 19.0 vs Royal '\n",
              "                                   'Challengers Bengaluru 172/8 20.0 Match '\n",
              "                                   'Ended Day Eliminator Rajasthan Royals beat '\n",
              "                                   'Royal Challengers Bengaluru by 4 wickets '\n",
              "                                   'View Scorecard HIGHLIGHTS of RR vs RCB '\n",
              "                                   'Eliminator Match 72 Live Updates 23:25 IST '\n",
              "                                   '22 May 2024 RR vs RCB Live Score, IPL 2024 '\n",
              "                                   'Eliminator: RR win by 4 wickets Riyan '\n",
              "                                   'Parag 36 and Shimron Hetmyer 26 guided the '\n",
              "                                   'Rajasthan Royals to a 4-wicket victory '\n",
              "                                   'over'},\n",
              "              'score': 0.888800323,\n",
              "              'values': []},\n",
              "             {'id': '2024_6',\n",
              "              'metadata': {'source': 'https://www.financialexpress.com/sports/ipl/rr-vs-rcb-live-match-score-ipl-2024-rajasthan-royals-vs-royal-challengers-bengaluru-eliminator-live-match-updates-scorecard/3497628/',\n",
              "                           'text': 'Rajasthan Royals vs Royal Challengers '\n",
              "                                   'Bengaluru Highlights, IPL 2024 Eliminator: '\n",
              "                                   'Rajasthan Royals have been the best '\n",
              "                                   'bowling side in this edition of Indian '\n",
              "                                   'Premier League and tonight, they are '\n",
              "                                   'living up to that image. Winning toss and '\n",
              "                                   'electing to field first, RR bowlers '\n",
              "                                   'maintained a chokehold on the RCB batters '\n",
              "                                   'from the word go. Though Virat Kohli '\n",
              "                                   'achieved that magnificent milestone of '\n",
              "                                   'becoming first-ever player to get 8,000 '\n",
              "                                   'runs in the history of IPL, RCB were not '\n",
              "                                   'able to get as many runs on'},\n",
              "              'score': 0.879534066,\n",
              "              'values': []}],\n",
              " 'namespace': '',\n",
              " 'usage': {'read_units': 6}}"
            ]
          },
          "metadata": {},
          "execution_count": 26
        }
      ]
    },
    {
      "cell_type": "code",
      "source": [
        "# get list of retrieved text\n",
        "contexts = [item['metadata']['text'] for item in result['matches']]\n",
        "\n",
        "relevnat_docs = \"\\n\\n---\\n\\n\".join(contexts)+\"\\n\\n-----\\n\\n\"+query"
      ],
      "metadata": {
        "id": "5xEThOuEJP8Q"
      },
      "execution_count": null,
      "outputs": []
    },
    {
      "cell_type": "code",
      "source": [
        "print(relevnat_docs)"
      ],
      "metadata": {
        "colab": {
          "base_uri": "https://localhost:8080/"
        },
        "id": "HgpKK4YOJ-gV",
        "outputId": "fc42128f-94d1-4ec9-d96b-f0da792e9c6e"
      },
      "execution_count": null,
      "outputs": [
        {
          "output_type": "stream",
          "name": "stdout",
          "text": [
            "the Rajasthan Royals to a 4-wicket victory over the Royal Challengers Bangalore. Chasing a target of 173 runs set by RCB, RR successfully reached the mark. With this win, RR moves to the second eliminator against SRH on Friday, while RCBs journey in this IPL season comes to an end. 23:21 IST 22 May 2024 RR vs RCB Live Score, IPL 2024 Eliminator: RR still on game Rovman Powell hit 4 twice. 5 More to go. 23:20 IST 22 May 2024 RR vs RCB Live Score, IPL 2024 Eliminator: RCB takes another wicket\n",
            "\n",
            "---\n",
            "\n",
            "consecutive wickets, RR proved themselves again. Match Ended Indian Premier League, 2024 Rajasthan Royals 174/6 19.0 vs Royal Challengers Bengaluru 172/8 20.0 Match Ended Day Eliminator Rajasthan Royals beat Royal Challengers Bengaluru by 4 wickets View Scorecard HIGHLIGHTS of RR vs RCB Eliminator Match 72 Live Updates 23:25 IST 22 May 2024 RR vs RCB Live Score, IPL 2024 Eliminator: RR win by 4 wickets Riyan Parag 36 and Shimron Hetmyer 26 guided the Rajasthan Royals to a 4-wicket victory over\n",
            "\n",
            "---\n",
            "\n",
            "Rajasthan Royals vs Royal Challengers Bengaluru Highlights, IPL 2024 Eliminator: Rajasthan Royals have been the best bowling side in this edition of Indian Premier League and tonight, they are living up to that image. Winning toss and electing to field first, RR bowlers maintained a chokehold on the RCB batters from the word go. Though Virat Kohli achieved that magnificent milestone of becoming first-ever player to get 8,000 runs in the history of IPL, RCB were not able to get as many runs on\n",
            "\n",
            "-----\n",
            "\n",
            "Who won RR vs RCB eliminator IPL match?\n"
          ]
        }
      ]
    },
    {
      "cell_type": "markdown",
      "source": [
        "### Ask a question to get answer"
      ],
      "metadata": {
        "id": "x_2SxlMfaICM"
      }
    },
    {
      "cell_type": "code",
      "source": [
        "# Initialize a global cache dictionary\n",
        "cache = {}\n",
        "\n",
        "def generate_answer(user_input):\n",
        "    # Check if the user_input is already in the cache\n",
        "    if user_input in cache:\n",
        "        print(\"Cache hit, Found the Answer!\")\n",
        "        return cache[user_input]\n",
        "\n",
        "    # Convert the question to a query vector\n",
        "    query_vector = create_embeddings(user_input)\n",
        "\n",
        "    # get relevant contexts to answer question\n",
        "    result = index.query(vector=query_vector, top_k=3, include_metadata=True)\n",
        "\n",
        "    # get list of retrieved text\n",
        "    context_data = [item['metadata']['text'] for item in result['matches']]\n",
        "    context = \"\\n\\n---\\n\\n\".join(context_data) + \"\\n\\n-----\\n\\n\" + user_input\n",
        "\n",
        "    # create a message object\n",
        "    messages = [\n",
        "        {\"role\": \"system\", \"content\": \"You are an AI assistant that answers based on the given context. Please don't answer if you don't know.\"},\n",
        "        {\"role\": \"user\", \"content\": context}\n",
        "    ]\n",
        "\n",
        "    # use chat completion to generate a response\n",
        "    response = client.chat.completions.create(\n",
        "        model=gpt_four,\n",
        "        temperature=0,\n",
        "        max_tokens=50,\n",
        "        messages=messages\n",
        "    )\n",
        "\n",
        "    answer = response.choices[0].message.content\n",
        "\n",
        "    # Store the response in the cache\n",
        "    cache[user_input] = answer\n",
        "\n",
        "    return answer\n"
      ],
      "metadata": {
        "id": "r34cXOajE2tK"
      },
      "execution_count": 27,
      "outputs": []
    },
    {
      "cell_type": "code",
      "source": [
        "user_input = \"Who won RR vs RCB eliminator match\"\n",
        "\n",
        "generate_answer(user_input)"
      ],
      "metadata": {
        "colab": {
          "base_uri": "https://localhost:8080/",
          "height": 35
        },
        "id": "YXIL1PEXE1Ut",
        "outputId": "99eee156-e70c-4263-f334-5490d5cbfb06"
      },
      "execution_count": null,
      "outputs": [
        {
          "output_type": "execute_result",
          "data": {
            "text/plain": [
              "'The Rajasthan Royals (RR) won the eliminator match against the Royal Challengers Bangalore (RCB) by 4 wickets.'"
            ],
            "application/vnd.google.colaboratory.intrinsic+json": {
              "type": "string"
            }
          },
          "metadata": {},
          "execution_count": 109
        }
      ]
    },
    {
      "cell_type": "markdown",
      "source": [
        "An in-memory cache dictionary is utilized to store and quickly retrieve responses for repeated queries, minimizing redundant computations and reducing overall costs."
      ],
      "metadata": {
        "id": "dPIHj6akRJax"
      }
    },
    {
      "cell_type": "code",
      "source": [
        "user_input = \"Who won RR vs RCB eliminator match\"\n",
        "\n",
        "generate_answer(user_input)"
      ],
      "metadata": {
        "colab": {
          "base_uri": "https://localhost:8080/",
          "height": 52
        },
        "id": "uqSGzhUBQQls",
        "outputId": "9dce014f-a0b0-4ecf-930e-3bdc330434af"
      },
      "execution_count": null,
      "outputs": [
        {
          "output_type": "stream",
          "name": "stdout",
          "text": [
            "Cache hit, Found the Answer!\n"
          ]
        },
        {
          "output_type": "execute_result",
          "data": {
            "text/plain": [
              "'The Rajasthan Royals (RR) won the eliminator match against the Royal Challengers Bangalore (RCB) by 4 wickets.'"
            ],
            "application/vnd.google.colaboratory.intrinsic+json": {
              "type": "string"
            }
          },
          "metadata": {},
          "execution_count": 110
        }
      ]
    },
    {
      "cell_type": "code",
      "source": [
        "user_input = \"Give me a short summary of IPL 2024 final match between KKR vs SRH\"\n",
        "\n",
        "generate_answer(user_input)"
      ],
      "metadata": {
        "id": "Of9-nf3XRD3p",
        "colab": {
          "base_uri": "https://localhost:8080/",
          "height": 52
        },
        "outputId": "0dd50962-54fc-4dd2-f4a2-ce8b0e8ef4ef"
      },
      "execution_count": 111,
      "outputs": [
        {
          "output_type": "execute_result",
          "data": {
            "text/plain": [
              "'In the IPL 2024 final, the Kolkata Knight Riders (KKR) emerged victorious against the Sunrisers Hyderabad (SRH) by 8 wickets. SRH scored 113 runs in 18.3 overs, while KKR chased'"
            ],
            "application/vnd.google.colaboratory.intrinsic+json": {
              "type": "string"
            }
          },
          "metadata": {},
          "execution_count": 111
        }
      ]
    },
    {
      "cell_type": "code",
      "source": [
        "user_input = \"Give me a short summary of IPL 2024 final match between KKR vs SRH\"\n",
        "\n",
        "generate_answer(user_input)"
      ],
      "metadata": {
        "colab": {
          "base_uri": "https://localhost:8080/",
          "height": 70
        },
        "id": "mpqX_kbSThrB",
        "outputId": "82236a78-c3fe-4447-a853-234753998014"
      },
      "execution_count": 112,
      "outputs": [
        {
          "output_type": "stream",
          "name": "stdout",
          "text": [
            "Cache hit, Found the Answer!\n"
          ]
        },
        {
          "output_type": "execute_result",
          "data": {
            "text/plain": [
              "'In the IPL 2024 final, the Kolkata Knight Riders (KKR) emerged victorious against the Sunrisers Hyderabad (SRH) by 8 wickets. SRH scored 113 runs in 18.3 overs, while KKR chased'"
            ],
            "application/vnd.google.colaboratory.intrinsic+json": {
              "type": "string"
            }
          },
          "metadata": {},
          "execution_count": 112
        }
      ]
    },
    {
      "cell_type": "code",
      "source": [
        "user_input = \"Give me a short summary of IPL Qualifier IPL match happedn between SRH vs RR\"\n",
        "\n",
        "generate_answer(user_input)"
      ],
      "metadata": {
        "colab": {
          "base_uri": "https://localhost:8080/",
          "height": 52
        },
        "id": "drZ3GCCxa9r2",
        "outputId": "0825b25a-b8ca-42b3-ee49-352bd8cde1ac"
      },
      "execution_count": 32,
      "outputs": [
        {
          "output_type": "execute_result",
          "data": {
            "text/plain": [
              "\"In the IPL 2024 Qualifier 2 match between Sunrisers Hyderabad (SRH) and Rajasthan Royals (RR) held at the MA Chidambaram Stadium, RR's skipper Sanju Samson won the toss and opted to field first\""
            ],
            "application/vnd.google.colaboratory.intrinsic+json": {
              "type": "string"
            }
          },
          "metadata": {},
          "execution_count": 32
        }
      ]
    },
    {
      "cell_type": "code",
      "source": [
        "user_input = \"Who won Qualifier 2 IPl match between SRH and RR \"\n",
        "\n",
        "generate_answer(user_input)"
      ],
      "metadata": {
        "colab": {
          "base_uri": "https://localhost:8080/",
          "height": 35
        },
        "id": "hafP6BNwbVCO",
        "outputId": "d2cf6cb9-8d5e-4e5b-a88c-65ba284f5d6f"
      },
      "execution_count": 34,
      "outputs": [
        {
          "output_type": "execute_result",
          "data": {
            "text/plain": [
              "'Sunrisers Hyderabad (SRH) won the Qualifier 2 IPL match against Rajasthan Royals (RR) by 36 runs.'"
            ],
            "application/vnd.google.colaboratory.intrinsic+json": {
              "type": "string"
            }
          },
          "metadata": {},
          "execution_count": 34
        }
      ]
    },
    {
      "cell_type": "code",
      "source": [
        "user_input = \"Who won first qualifier match played between KKR vs SRH\"\n",
        "\n",
        "generate_answer(user_input)"
      ],
      "metadata": {
        "colab": {
          "base_uri": "https://localhost:8080/",
          "height": 35
        },
        "id": "2bBX0Ni8cwkQ",
        "outputId": "f39c5548-b9d1-462f-83d2-b3020bfc77bd"
      },
      "execution_count": 36,
      "outputs": [
        {
          "output_type": "execute_result",
          "data": {
            "text/plain": [
              "'Kolkata Knight Riders (KKR) won the first qualifier match against Sunrisers Hyderabad (SRH) by 8 wickets with 38 balls to spare.'"
            ],
            "application/vnd.google.colaboratory.intrinsic+json": {
              "type": "string"
            }
          },
          "metadata": {},
          "execution_count": 36
        }
      ]
    },
    {
      "cell_type": "markdown",
      "source": [
        "### Evaluation of RAG implementation"
      ],
      "metadata": {
        "id": "iCDTHRxKVfK2"
      }
    },
    {
      "cell_type": "code",
      "source": [
        "!pip3 -q install rouge_score"
      ],
      "metadata": {
        "colab": {
          "base_uri": "https://localhost:8080/"
        },
        "id": "hYZHhcDHTmJD",
        "outputId": "1201bf90-5a6f-4a34-c328-cb24782be727"
      },
      "execution_count": 30,
      "outputs": [
        {
          "output_type": "stream",
          "name": "stdout",
          "text": [
            "  Preparing metadata (setup.py) ... \u001b[?25l\u001b[?25hdone\n",
            "  Building wheel for rouge_score (setup.py) ... \u001b[?25l\u001b[?25hdone\n"
          ]
        }
      ]
    },
    {
      "cell_type": "code",
      "source": [
        "import evaluate\n",
        "rouge = evaluate.load('rouge')"
      ],
      "metadata": {
        "id": "aYtYHeP6VoC-"
      },
      "execution_count": 31,
      "outputs": []
    },
    {
      "cell_type": "code",
      "source": [
        "generated_responses = [\"The Rajasthan Royals (RR) won the eliminator match against the Royal Challengers Bangalore (RCB) by 4 wickets\",\n",
        "                       \"In the IPL 2024 final, the Kolkata Knight Riders (KKR) emerged victorious against the Sunrisers Hyderabad (SRH) by 8 wickets. SRH scored 113 runs in 18.3 overs, while KKR chased.\",\n",
        "                       \"In the IPL 2024 Qualifier 2 match between Sunrisers Hyderabad (SRH) and Rajasthan Royals (RR) held at the MA Chidambaram Stadium, RR's skipper Sanju Samson won the toss and opted to field first, Sunrisers Hyderabad (SRH) won the Qualifier 2 IPL match against Rajasthan Royals (RR) by 36 runs.\",\n",
        "                       \"Kolkata Knight Riders (KKR) won the first qualifier match against Sunrisers Hyderabad (SRH) by 8 wickets with 38 balls to spare.\"\n",
        "                       ]"
      ],
      "metadata": {
        "id": "ZWqPj8KoaoeB"
      },
      "execution_count": 50,
      "outputs": []
    },
    {
      "cell_type": "code",
      "source": [
        "reference_responses = [\"Rajasthan Royals (RR) secured victory in the eliminator match against the Royal Challengers Bangalore (RCB) with a 4-wickets in hand.\",\n",
        "                       \"Kolkata Knight Riders (KKR) triumphed over Sunrisers Hyderabad (SRH) by 8 wickets. SRH managed 113 runs in 18.3 overs, and KKR successfully chased the target.\",\n",
        "                       \"In the IPL 2024 Qualifier 2 at MA Chidambaram Stadium, Rajasthan Royals (RR), led by skipper Sanju Samson, elected to field after winning the toss. Sunrisers Hyderabad (SRH) emerged victorious by 36 runs against RR\",\n",
        "                       \"Kolkata Knight Riders (KKR) vs Sunrisers Hyderabad (SRH) IPL 2024 Qualifier 1 match won by KKR defeating SRH by 8 wickets to reach final\"]"
      ],
      "metadata": {
        "id": "aJPLxsNsb4D5"
      },
      "execution_count": 53,
      "outputs": []
    },
    {
      "cell_type": "code",
      "source": [
        "def eval_response(list1, list2):\n",
        "  results = rouge.compute(predictions=list1, references=list2)\n",
        "  print(\"The RougeL score generated by the OpenAI LLM is:\", results['rougeL'])"
      ],
      "metadata": {
        "id": "k301O2c6eJxJ"
      },
      "execution_count": 66,
      "outputs": []
    },
    {
      "cell_type": "code",
      "source": [
        "eval_response(generated_responses, reference_responses)"
      ],
      "metadata": {
        "colab": {
          "base_uri": "https://localhost:8080/"
        },
        "id": "CUzNqi5RkMbW",
        "outputId": "c71ca96e-6278-4358-ac88-96a2cc9f04e5"
      },
      "execution_count": 67,
      "outputs": [
        {
          "output_type": "stream",
          "name": "stdout",
          "text": [
            "The RougeL score generated by the OpenAI LLM is: 0.6025111799105607\n"
          ]
        }
      ]
    },
    {
      "cell_type": "code",
      "source": [],
      "metadata": {
        "id": "HmFhIzt8kRl3"
      },
      "execution_count": null,
      "outputs": []
    }
  ]
}